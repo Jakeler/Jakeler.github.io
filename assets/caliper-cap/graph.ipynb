{
 "cells": [
  {
   "cell_type": "code",
   "execution_count": null,
   "metadata": {},
   "outputs": [],
   "source": [
    "import pandas as pd\n",
    "from plotly import express as px"
   ]
  },
  {
   "cell_type": "code",
   "execution_count": null,
   "metadata": {},
   "outputs": [],
   "source": [
    "df = pd.read_csv('calip-dsc.csv', sep=';', header=1)"
   ]
  },
  {
   "cell_type": "code",
   "execution_count": null,
   "metadata": {},
   "outputs": [],
   "source": [
    "df = df.rename(columns={'Value': 'Voltage'})"
   ]
  },
  {
   "cell_type": "code",
   "execution_count": null,
   "metadata": {},
   "outputs": [],
   "source": [
    "# df['Time'] = pd.to_timedelta(df.index / 2, unit='s')\n",
    "df['Time'] = pd.date_range(start=0, freq='500ms', periods=len(df))\n",
    "df['Index'] = df.index\n",
    "df"
   ]
  },
  {
   "cell_type": "code",
   "execution_count": null,
   "metadata": {},
   "outputs": [],
   "source": [
    "fig = px.scatter(df, y='Voltage', x='Time', hover_data={'Index': True, 'Time': '|%-H:%M:%S', 'Type': True})\n",
    "fig.update_layout(dict(\n",
    "        title='Idle Discharge',\n",
    "        template='plotly_dark',\n",
    "        # margin=dict(l=100, r=100),\n",
    "        hovermode='x',\n",
    "\n",
    "))\n",
    "fig.update_yaxes(ticksuffix=' V')\n",
    "fig.update_xaxes(tickformat=\"%-H:%M\", ticksuffix=' h')\n",
    "fig.data[0].update(mode='markers+lines')\n",
    "fig.show()"
   ]
  },
  {
   "cell_type": "code",
   "execution_count": null,
   "metadata": {},
   "outputs": [],
   "source": [
    "fig.write_html('dsc.html', full_html=False, include_plotlyjs='/static/js/plotly.min.js')"
   ]
  },
  {
   "cell_type": "code",
   "execution_count": null,
   "metadata": {},
   "outputs": [],
   "source": []
  }
 ],
 "metadata": {
  "kernelspec": {
   "name": "python39264bit2f0f6a7b5505470c80ca18497838a507",
   "display_name": "Python 3.9.2 64-bit"
  },
  "language_info": {
   "codemirror_mode": {
    "name": "ipython",
    "version": 3
   },
   "file_extension": ".py",
   "mimetype": "text/x-python",
   "name": "python",
   "nbconvert_exporter": "python",
   "pygments_lexer": "ipython3",
   "version": "3.9.4-final"
  },
  "metadata": {
   "interpreter": {
    "hash": "767d51c1340bd893661ea55ea3124f6de3c7a262a8b4abca0554b478b1e2ff90"
   }
  }
 },
 "nbformat": 4,
 "nbformat_minor": 2
}